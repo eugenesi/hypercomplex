{
 "cells": [
  {
   "cell_type": "markdown",
   "metadata": {},
   "source": [
    "Получение и прверка матрицы гиперкомплексного числа"
   ]
  },
  {
   "cell_type": "code",
   "execution_count": 238,
   "metadata": {},
   "outputs": [],
   "source": [
    "import sympy as sp\n",
    "import numpy as np\n",
    "import pandas as pd\n",
    "from itertools import groupby\n",
    "ar = np.array\n",
    "np.set_printoptions(linewidth=150)\n",
    "from functools import reduce"
   ]
  },
  {
   "cell_type": "code",
   "execution_count": 239,
   "metadata": {},
   "outputs": [],
   "source": [
    "def get_idxs(n):\n",
    "    ''' Матрица индексов для расстановки компонент гиперкомплексного числа.\n",
    "        размер получаемой квадратной матрицы 2**n'''\n",
    "    if n==0: return ar([0])\n",
    "    a = get_idxs(n-1)\n",
    "    b = a+2**(n-1)\n",
    "    return chess(a,b)\n",
    "\n",
    "def chess(a,b):\n",
    "    ''' Получение  матрицы удвоенного размера при размещении малых матриц a и b  в шахматном порядке'''\n",
    "    ab = np.hstack([a,b])\n",
    "    ba = np.hstack([b,a])\n",
    "    return np.vstack([ab,ba])\n",
    "\n",
    "def rnd_f(n):\n",
    "    ''' Выдает n-менрный случайный вектор с нормой 1'''\n",
    "    r = np.random.rand(n)\n",
    "    r /= (r*r).sum()**0.5\n",
    "    return r\n",
    "\n",
    "def eq_from_sum(s):\n",
    "    ''' Выделяет из одного выражения уравнения для зависимостей знаков'''\n",
    "    return [(a+b).factor().args[2] for a,b in ar(s.args).reshape(n//2,2)]\n",
    "\n",
    "def get_dependens(req):\n",
    "    ''' Собирает все зависимости для знаков'''\n",
    "    dep = set()\n",
    "    for eq in req:\n",
    "        dep |= set(eq_from_sum(eq))\n",
    "    return list(dep)\n",
    "\n",
    "def to_bool_eq(dep):\n",
    "    ''' Преобразует зависимости вида s0*s1+s2*s3 в логические уравнения'''\n",
    "    eq = lambda a,b,c,d: a^b^c^d\n",
    "    return [ eq(*dp.atoms()) for dp in dep]\n",
    "\n",
    "def to_sign_mx(s):\n",
    "    '''Преобразует решение логического уравнения в матрицу'''\n",
    "    size = int(len(s)**0.5)\n",
    "    signs = [s[sp.symbols(f's{i}')] for i in range(len(s))]\n",
    "    return (ar(signs)*2-1).reshape(size,size)\n",
    "\n",
    "def test_rot_mx(ixs,signs):\n",
    "    ''' Тестирует матрицу поворота на случайном гиперкомплексном числе с нормой 1'''\n",
    "    n = len(ixs)\n",
    "    a = rnd_f(n)\n",
    "    bs = a[ixs]*signs\n",
    "    return abs(bs@bs.T-np.eye(len(bs))).sum()"
   ]
  },
  {
   "cell_type": "code",
   "execution_count": 240,
   "metadata": {},
   "outputs": [],
   "source": [
    "k = 3 \n",
    "#Размер матрицы\n",
    "n = 2**k\n",
    "a = ar(sp.var(f'a0:{n}'))\n",
    "s = ar(sp.var(f's0:{n*n}')).reshape(n,n)\n",
    "ixs = get_idxs(k)"
   ]
  },
  {
   "cell_type": "code",
   "execution_count": 241,
   "metadata": {},
   "outputs": [],
   "source": [
    "bs = a[ixs]*s\n",
    "eqs = bs@bs.T\n",
    "req = eqs[np.eye(n)==0]\n",
    "dep = get_dependens(req)"
   ]
  },
  {
   "cell_type": "code",
   "execution_count": 242,
   "metadata": {},
   "outputs": [],
   "source": [
    "beq = to_bool_eq(dep)"
   ]
  },
  {
   "cell_type": "code",
   "execution_count": 243,
   "metadata": {},
   "outputs": [],
   "source": [
    "ss = sp.satisfiable(reduce(sp.And,beq))\n",
    "if ss is False: \n",
    "    raise Exception(\"Решение не найдено\")"
   ]
  },
  {
   "cell_type": "code",
   "execution_count": 244,
   "metadata": {},
   "outputs": [],
   "source": [
    "signs = to_sign_mx(ss)"
   ]
  },
  {
   "cell_type": "code",
   "execution_count": 245,
   "metadata": {},
   "outputs": [
    {
     "data": {
      "text/plain": [
       "0.0"
      ]
     },
     "execution_count": 245,
     "metadata": {},
     "output_type": "execute_result"
    }
   ],
   "source": [
    "test_rot_mx(ixs, signs)"
   ]
  },
  {
   "cell_type": "code",
   "execution_count": 246,
   "metadata": {},
   "outputs": [
    {
     "data": {
      "text/plain": [
       "array([[-1, -2,  3,  4, -5,  6,  7, -8],\n",
       "       [-2,  1, -4,  3,  6,  5, -8, -7],\n",
       "       [-3, -4, -1, -2,  7,  8,  5,  6],\n",
       "       [ 4, -3, -2,  1,  8, -7,  6, -5],\n",
       "       [ 5,  6, -7,  8, -1,  2,  3,  4],\n",
       "       [-6,  5, -8, -7, -2, -1,  4, -3],\n",
       "       [-7, -8, -5,  6, -3, -4, -1,  2],\n",
       "       [ 8, -7, -6, -5, -4,  3, -2, -1]])"
      ]
     },
     "execution_count": 246,
     "metadata": {},
     "output_type": "execute_result"
    }
   ],
   "source": [
    "# Компоненты марицы\n",
    "signs*(ixs+1)"
   ]
  },
  {
   "cell_type": "markdown",
   "metadata": {},
   "source": [
    "Для размера матрицы больше 8 решение не находится. Скорее всего его нет."
   ]
  }
 ],
 "metadata": {
  "kernelspec": {
   "display_name": "Python 3",
   "language": "python",
   "name": "python3"
  },
  "language_info": {
   "codemirror_mode": {
    "name": "ipython",
    "version": 3
   },
   "file_extension": ".py",
   "mimetype": "text/x-python",
   "name": "python",
   "nbconvert_exporter": "python",
   "pygments_lexer": "ipython3",
   "version": "3.8.8"
  }
 },
 "nbformat": 4,
 "nbformat_minor": 4
}
