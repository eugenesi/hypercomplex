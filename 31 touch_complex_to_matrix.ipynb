{
 "cells": [
  {
   "cell_type": "markdown",
   "id": "66200c6b-f8c7-4ad9-8c0f-c74fb03ea428",
   "metadata": {},
   "source": [
    "Комплексное число можно представить в виде матрицы поворота"
   ]
  },
  {
   "cell_type": "code",
   "execution_count": 1,
   "id": "5bc33bd6-b50b-48d2-8633-46647d3eebf6",
   "metadata": {},
   "outputs": [],
   "source": [
    "import numpy as np"
   ]
  },
  {
   "cell_type": "code",
   "execution_count": 63,
   "id": "0d5c49d6-93d8-45ef-9a17-45be36abe13e",
   "metadata": {},
   "outputs": [],
   "source": [
    "def rnd_f(n):\n",
    "    ''' По'''\n",
    "    r = np.random.rand(n)\n",
    "    r /= (r*r).sum()**0.5\n",
    "    return r\n",
    "\n",
    "def c_to_mx(c):\n",
    "    return np.array([[c.real,-c.imag],[c.imag,c.real]])\n",
    "\n",
    "def c_to_col(c):\n",
    "    return np.array([[c.real,c.imag]]).T"
   ]
  },
  {
   "cell_type": "code",
   "execution_count": 75,
   "id": "145fb717-61c7-4652-b2be-0b070ad935a9",
   "metadata": {},
   "outputs": [],
   "source": [
    "a,b = rnd_f(2)\n",
    "c,d = rnd_f(2)\n",
    "e = a+b*1j\n",
    "f = c+d*1j"
   ]
  },
  {
   "cell_type": "code",
   "execution_count": 74,
   "id": "c76f6d53-1e2e-469f-8bb3-378b6ac17bff",
   "metadata": {},
   "outputs": [
    {
     "data": {
      "text/plain": [
       "array([[0., 0.],\n",
       "       [0., 0.]])"
      ]
     },
     "execution_count": 74,
     "metadata": {},
     "output_type": "execute_result"
    }
   ],
   "source": [
    "#Произведение матричного представления комплексных чисел соответствует  матричному представлению произведения\n",
    "c_to_mx(e)@c_to_mx(f) - c_to_mx(e*f)"
   ]
  },
  {
   "cell_type": "code",
   "execution_count": 76,
   "id": "663fabc0-5510-49ed-80b2-cf5853ac757a",
   "metadata": {},
   "outputs": [
    {
     "data": {
      "text/plain": [
       "array([[0.],\n",
       "       [0.]])"
      ]
     },
     "execution_count": 76,
     "metadata": {},
     "output_type": "execute_result"
    }
   ],
   "source": [
    "#Произведение матричного представлениея на столбец из компонент комплексного числа соответствует произведению комплексных чисел\n",
    "c_to_mx(e)@c_to_col(f)-c_to_col(f*e)"
   ]
  },
  {
   "cell_type": "code",
   "execution_count": null,
   "id": "12fcebfe-31f2-4c37-ae8e-1a33a5c0fee4",
   "metadata": {},
   "outputs": [],
   "source": []
  }
 ],
 "metadata": {
  "kernelspec": {
   "display_name": "Python 3",
   "language": "python",
   "name": "python3"
  },
  "language_info": {
   "codemirror_mode": {
    "name": "ipython",
    "version": 3
   },
   "file_extension": ".py",
   "mimetype": "text/x-python",
   "name": "python",
   "nbconvert_exporter": "python",
   "pygments_lexer": "ipython3",
   "version": "3.8.8"
  }
 },
 "nbformat": 4,
 "nbformat_minor": 5
}
